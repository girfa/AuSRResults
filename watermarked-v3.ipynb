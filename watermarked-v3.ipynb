{
 "cells": [
  {
   "cell_type": "code",
   "execution_count": 1,
   "id": "7c133443-5a69-4618-8f15-ea3c53adbdc1",
   "metadata": {},
   "outputs": [],
   "source": [
    "import pandas as pd\n",
    "import numpy as np\n",
    "from scipy.stats import f_oneway\n",
    "from scipy.spatial.distance import pdist, squareform\n",
    "from skbio.stats.distance import permanova\n",
    "from skbio import DistanceMatrix\n",
    "\n",
    "# Load data from CSV\n",
    "# v4 = AuSR1 + AuSR2 + AuSR3\n",
    "df = pd.read_csv('watermarked-v3.csv')"
   ]
  },
  {
   "cell_type": "markdown",
   "id": "b698cc1b-b0bd-4693-a7d7-eb34cffce5b5",
   "metadata": {},
   "source": [
    "## Parametric Analysis"
   ]
  },
  {
   "cell_type": "code",
   "execution_count": 2,
   "id": "04bf86eb-8f87-4650-bdd8-6515bac87e9d",
   "metadata": {},
   "outputs": [
    {
     "name": "stdout",
     "output_type": "stream",
     "text": [
      "One-way ANOVA Results for PSNR:\n",
      "F-statistic: 3439.706833347808\n",
      "P-value: 0.0\n",
      "Result: Reject the null hypothesis for PSNR (non-parametric)\n",
      "\n",
      "One-way ANOVA Results for SSIM:\n",
      "F-statistic: 30.744305367081054\n",
      "P-value: 5.583193698862902e-14\n",
      "Result: Reject the null hypothesis for SSIM  (non-parametric)\n"
     ]
    }
   ],
   "source": [
    "# Extract data for each metric and AuSR\n",
    "psnr_data = [df[df['AuSR'] == group]['PSNR'] for group in df['AuSR'].unique()]\n",
    "ssim_data = [df[df['AuSR'] == group]['SSIM'] for group in df['AuSR'].unique()]\n",
    "\n",
    "# Perform one-way ANOVA on PSNR\n",
    "f_statistic_psnr, p_value_psnr = f_oneway(*psnr_data)\n",
    "\n",
    "print(\"One-way ANOVA Results for PSNR:\")\n",
    "print(\"F-statistic:\", f_statistic_psnr)\n",
    "print(\"P-value:\", p_value_psnr)\n",
    "if p_value_psnr < 0.05:\n",
    "    print(\"Result: Reject the null hypothesis for PSNR (non-parametric)\")\n",
    "else:\n",
    "    print(\"Result: Fail to reject the null hypothesis for PSNR (parametric)\")\n",
    "\n",
    "# Perform one-way ANOVA on SSIM\n",
    "f_statistic_ssim, p_value_ssim = f_oneway(*ssim_data)\n",
    "\n",
    "print(\"\\nOne-way ANOVA Results for SSIM:\")\n",
    "print(\"F-statistic:\", f_statistic_ssim)\n",
    "print(\"P-value:\", p_value_ssim)\n",
    "if p_value_ssim < 0.05:\n",
    "    print(\"Result: Reject the null hypothesis for SSIM  (non-parametric)\")\n",
    "else:\n",
    "    print(\"Result: Fail to reject the null hypothesis for SSIM (parametric)\")"
   ]
  },
  {
   "cell_type": "markdown",
   "id": "4ce83d6a-9ba5-4e31-8eae-09bd46e22337",
   "metadata": {},
   "source": [
    "## Permutation ANOVA"
   ]
  },
  {
   "cell_type": "code",
   "execution_count": 3,
   "id": "e0ce6c65-3ef8-487f-898d-3ec1b37ec6db",
   "metadata": {},
   "outputs": [
    {
     "name": "stdout",
     "output_type": "stream",
     "text": [
      "\n",
      "Permutation ANOVA Results:\n",
      "method name                 PERMANOVA\n",
      "test statistic name          pseudo-F\n",
      "sample size                      4110\n",
      "number of groups                    3\n",
      "test statistic            3369.600984\n",
      "p-value                      0.000999\n",
      "number of permutations           1000\n",
      "Name: PERMANOVA results, dtype: object\n"
     ]
    }
   ],
   "source": [
    "# Extract the PSNR and SSIM columns\n",
    "psnr_values = df['PSNR'].values\n",
    "ssim_values = df['SSIM'].values\n",
    "\n",
    "# Combine PSNR and SSIM into a single data array\n",
    "data = np.column_stack((psnr_values, ssim_values))\n",
    "\n",
    "# Create a distance matrix using Bray-Curtis distance\n",
    "distances = pdist(data, metric='braycurtis')\n",
    "distance_matrix = DistanceMatrix(squareform(distances))\n",
    "\n",
    "# Grouping variables based on AuSR\n",
    "algorithms = df['AuSR'].values\n",
    "\n",
    "# Perform PERMANOVA\n",
    "result = permanova(distance_matrix, grouping=algorithms, permutations=1000)\n",
    "print(\"\\nPermutation ANOVA Results:\")\n",
    "print(result)"
   ]
  }
 ],
 "metadata": {
  "kernelspec": {
   "display_name": "Python 3 (ipykernel)",
   "language": "python",
   "name": "python3"
  },
  "language_info": {
   "codemirror_mode": {
    "name": "ipython",
    "version": 3
   },
   "file_extension": ".py",
   "mimetype": "text/x-python",
   "name": "python",
   "nbconvert_exporter": "python",
   "pygments_lexer": "ipython3",
   "version": "3.10.12"
  }
 },
 "nbformat": 4,
 "nbformat_minor": 5
}
